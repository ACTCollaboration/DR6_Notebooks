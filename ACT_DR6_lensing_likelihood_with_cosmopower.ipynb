{
  "cells": [
    {
      "cell_type": "markdown",
      "metadata": {
        "id": "view-in-github",
        "colab_type": "text"
      },
      "source": [
        "<a href=\"https://colab.research.google.com/github/ACTCollaboration/DR6_Notebooks/blob/main/ACT_DR6_lensing_likelihood_with_cosmopower.ipynb\" target=\"_parent\"><img src=\"https://colab.research.google.com/assets/colab-badge.svg\" alt=\"Open In Colab\"/></a>"
      ]
    },
    {
      "cell_type": "markdown",
      "metadata": {
        "id": "SNmH8dH5bl8h"
      },
      "source": [
        "# Cosmopower and the Lensing Likelihood\n",
        "\n",
        "*Written by Karen Perez, Boris Bolliet and the ACT collaboration*\n",
        "\n",
        "---\n",
        "\n",
        "This notebook will demonstrate how to work with the ACT Data Release 6 (DR6) lensing likelihood using Cosmopower. This is done by loading information about the ACT lensing data, including the covariance matrix and power spectrum, and running MCMC to estimate cosmological parameters. The MCMC library that we will use here is `Cobaya` ([arxiv](https://arxiv.org/abs/2005.05290), [ASCL](https://ascl.net/1910.019)), which is a general purpose statistical framework used in cosmological parameter estimation.\n",
        "\n",
        "In MCMC, we have to sample the parameter space and generate a theoretical power spectrum many times. Traditionally, this is done using Boltzmann theory codes such as CLASS ([code](https://github.com/lesgourg/class_public), [paper](https://arxiv.org/abs/1104.2932)) or CAMB ([code](https://github.com/cmbant/CAMB/), [paper](https://ui.adsabs.harvard.edu/abs/2000ApJ...538..473L/abstract)). In this notebook, we instead make use of emulators made with Cosmopower ([code](https://github.com/alessiospuriomancini/cosmopower), [paper](https://arxiv.org/abs/2106.03846)), a set of trained neural networks that significantly speeds up the computation of theory power spectra and parameter estimation. These specific emulators here are trained with Stage IV accuracy requirements, as reported [here](https://arxiv.org/abs/2303.01591).\n",
        "\n",
        "Currently, the cosmopower emulators are wrapped within the class_sz ([code](https://github.com/CLASS-SZ/class_sz), [paper](https://inspirehep.net/literature/2715411)) code, which easily allows for exact evaluation of background and thermodynamics quantities while calling the cosmopower emulators to predict the CMB spectra.\n",
        "\n",
        "### ACT DR6 data products\n",
        "\n",
        "\n",
        "The data for this release is publicly available on [Lambda](https://lambda.gsfc.nasa.gov/product/act/actadv_prod_table.html) and a full discussion of the ACT DR6 lensing analysis can be found in [Qu et al. (2023) ](https://arxiv.org/abs/2304.05202), [Madhavacheril et al. (2023)](https://arxiv.org/abs/2304.05203), [MacCrann et al. (2023)](https://arxiv.org/abs/2304.05196) and [Farren et al. (2023)](https://arxiv.org/abs/2309.05659).\n",
        "\n",
        "For more information on `Cosmopower` readers can refer to [Spuria Mancini et al. (2021)](https://arxiv.org/abs/2106.03846) and the code can be found on [github](https://github.com/alessiospuriomancini/cosmopower).\n",
        "\n",
        "### Further background\n",
        "For anyone who would like a bit more background in CMB analysis we recommend a few other resources from ACT at the end of this notebook."
      ],
      "id": "SNmH8dH5bl8h"
    },
    {
      "cell_type": "markdown",
      "metadata": {
        "id": "Lfqkq5hirGdW"
      },
      "source": [
        "## Package instalation and setup\n",
        "First, we need to install `Cobaya`, `Cosmopower` and all the dependencies to make them interface with each other. We will also install the BAO likelihoods, available via `Cobaya`, as well as the ACT DR6 lensing likelihood. Since we are installing a lot of libraries, the following cell will take ~20 minutes to run."
      ],
      "id": "Lfqkq5hirGdW"
    },
    {
      "cell_type": "code",
      "source": [
        "%%capture\n",
        "!pip install tensorflow==2.13.0\n",
        "!pip install tensorflow_probability==0.21.0"
      ],
      "metadata": {
        "id": "L0wPUfQ5USpp"
      },
      "id": "L0wPUfQ5USpp",
      "execution_count": null,
      "outputs": []
    },
    {
      "cell_type": "code",
      "execution_count": null,
      "metadata": {
        "id": "aKTX1GULsVgK"
      },
      "outputs": [],
      "source": [
        "%%capture\n",
        "!pwd\n",
        "!pip install cosmopower\n",
        "!pip install mcfit\n",
        "!sudo apt install libgsl-dev\n",
        "!sudo apt install fftw3-dev\n",
        "!rm -rf class_sz\n",
        "!git clone https://github.com/CLASS-SZ/class_sz.git\n",
        "%cd class_sz\n",
        "!mv Makefile Makefile_os\n",
        "!mv Makefile_linux Makefile\n",
        "!make clean\n",
        "!make\n",
        "%cd python\n",
        "!pip install -e .\n",
        "%cd classy_szfast\n",
        "!pip install -e .\n",
        "%cd /content\n",
        "!rm -rf cosmopower-organization\n",
        "!mkdir cosmopower-organization\n",
        "%cd /content/cosmopower-organization\n",
        "!git clone https://github.com/cosmopower-organization/lcdm.git\n",
        "!git clone https://github.com/cosmopower-organization/mnu.git\n",
        "!git clone https://github.com/cosmopower-organization/neff.git\n",
        "!git clone https://github.com/cosmopower-organization/wcdm.git\n",
        "!git clone https://github.com/cosmopower-organization/reactemu-fr.git\n",
        "%cd /content/\n",
        "import sys\n",
        "sys.path.insert(1, \"/content/class_sz/python\")\n",
        "sys.path.insert(1, \"/content/class_sz/python/classy_szfast\")"
      ],
      "id": "aKTX1GULsVgK"
    },
    {
      "cell_type": "code",
      "execution_count": null,
      "metadata": {
        "id": "hyNIrtAKCIhW"
      },
      "outputs": [],
      "source": [
        "%%capture\n",
        "%cd /content/\n",
        "!pip install cobaya\n",
        "!mkdir cosmo_pkgs\n",
        "!cobaya-install cosmo -p /content/cosmo_pkgs\n",
        "%cd /content/\n",
        "!git clone https://github.com/ACTCollaboration/act_dr6_lenslike.git\n",
        "%cd act_dr6_lenslike\n",
        "!pip install -e . --user\n",
        "!wget -q -t 5 -nc -w 3 https://lambda.gsfc.nasa.gov/data/suborbital/ACT/ACT_dr6/likelihood/data/ACT_dr6_likelihood_v1.1.tgz\n",
        "!tar -xvf \"ACT_dr6_likelihood_v1.1.tgz\" -C \"/content/act_dr6_lenslike/act_dr6_lenslike/data\"\n",
        "%cd /content/"
      ],
      "id": "hyNIrtAKCIhW"
    },
    {
      "cell_type": "markdown",
      "metadata": {
        "id": "txDfGzTprjGP"
      },
      "source": [
        "## Import the relevant packages\n",
        "\n",
        "If everything in the cell above was installed correctly, then you should be able to import the following libraries."
      ],
      "id": "txDfGzTprjGP"
    },
    {
      "cell_type": "code",
      "execution_count": null,
      "metadata": {
        "colab": {
          "base_uri": "https://localhost:8080/",
          "height": 73
        },
        "id": "115b109a",
        "outputId": "7469e565-8684-418a-8348-ed555ff2e196"
      },
      "outputs": [
        {
          "output_type": "stream",
          "name": "stderr",
          "text": [
            "WARNING:tensorflow:Please fix your imports. Module tensorflow.python.training.tracking.data_structures has been moved to tensorflow.python.trackable.data_structures. The old module will be deleted in version 2.11.\n"
          ]
        },
        {
          "output_type": "execute_result",
          "data": {
            "text/plain": [
              "'/content/class_sz/python/classy_sz.cpython-310-x86_64-linux-gnu.so'"
            ],
            "application/vnd.google.colaboratory.intrinsic+json": {
              "type": "string"
            }
          },
          "metadata": {},
          "execution_count": 4
        }
      ],
      "source": [
        "import numpy as np\n",
        "import cobaya\n",
        "import cosmopower\n",
        "import classy_sz\n",
        "import scipy\n",
        "import yaml\n",
        "import os\n",
        "\n",
        "from getdist import loadMCSamples, MCSamples\n",
        "from getdist import plots\n",
        "\n",
        "from cosmopower import cosmopower_NN\n",
        "from cosmopower import cosmopower_PCAplusNN\n",
        "\n",
        "import matplotlib\n",
        "import matplotlib.pyplot as plt\n",
        "\n",
        "import pprint\n",
        "\n",
        "import subprocess\n",
        "\n",
        "import act_dr6_lenslike\n",
        "import time\n",
        "\n",
        "%matplotlib inline\n",
        "classy_sz.__file__"
      ],
      "id": "115b109a"
    },
    {
      "cell_type": "markdown",
      "metadata": {
        "id": "06fc60fb"
      },
      "source": [
        "# Loading and formatting the `Cobaya` input `yaml` file\n",
        "\n",
        "`Cobaya` requires 4 main components to do parameter estimation via MCMC:\n",
        "* Likelihood: An external code/library that computes the likelihoods to be explored.\n",
        "* Parameters: The list of parameters to be fixed, sampled or derived, along with their respective priors and values.\n",
        "* Theory: The theory code to compute the observables used in the likelihoods. Traditionally, this would be either CAMB or CLASS, but in this notebook we will use `Cosmopower`.\n",
        "* Sampler: The algorithm to sample the parameter space. In our case it will be MCMC.\n",
        "\n",
        "Setup instructions such as paths and other parameters for each of these components can be written to a yaml file that is then\n",
        "passed to Cobaya to perform parameter estimation. In this section, we will look at the contents of the yaml file, and edit some paths so that it works within this notebook and with all the packages we previously installed."
      ],
      "id": "06fc60fb"
    },
    {
      "cell_type": "markdown",
      "metadata": {
        "id": "cc7f7491"
      },
      "source": [
        "First, let's download the setup yaml file and the initial covariance matrix."
      ],
      "id": "cc7f7491"
    },
    {
      "cell_type": "code",
      "execution_count": null,
      "metadata": {
        "id": "H_KsAc0q5QD8"
      },
      "outputs": [],
      "source": [
        "%%capture\n",
        "!wget https://phy-act1.princeton.edu/public/data/dr6_lensing_v1/misc/lcdm_actplanck_baseline.classy_szfast_mcmc.yaml\n",
        "\n",
        "!wget https://phy-act1.princeton.edu/public/data/dr6_lensing_v1/misc/lcdm_actplanck_baseline_covmat.covmat"
      ],
      "id": "H_KsAc0q5QD8"
    },
    {
      "cell_type": "code",
      "execution_count": null,
      "metadata": {
        "id": "DMsmQIjquYOC"
      },
      "outputs": [],
      "source": [
        "filename = \"lcdm_actplanck_baseline.classy_szfast_mcmc.yaml\"\n",
        "DR6_lensing_only_yaml = yaml.safe_load(open(filename))"
      ],
      "id": "DMsmQIjquYOC"
    },
    {
      "cell_type": "markdown",
      "metadata": {
        "id": "iKSBNerUrm2x"
      },
      "source": [
        "The yaml file is now loaded into the notebook as python dictionary, and the setup instructions for the four different Cobaya components can be accessed as follows:\n",
        "\n",
        "```\n",
        "DR6_lensing_only_yaml[\"likelihood\"]\n",
        "DR6_lensing_only_yaml[\"theory\"]\n",
        "DR6_lensing_only_yaml[\"params\"]\n",
        "```\n",
        "\n"
      ],
      "id": "iKSBNerUrm2x"
    },
    {
      "cell_type": "markdown",
      "metadata": {
        "id": "444b6e92"
      },
      "source": [
        "Let's take a look at the likelihood block. We will have to change the paths to the likelihoods we  just installed (ACTDR6LensLike and BAO)."
      ],
      "id": "444b6e92"
    },
    {
      "cell_type": "code",
      "execution_count": null,
      "metadata": {
        "id": "d5f77374"
      },
      "outputs": [],
      "source": [
        "path_to_bao_lkl = \"/content/cosmo_pkgs/data\"\n",
        "DR6_lensing_only_yaml[\"likelihood\"]['bao.sdss_dr12_lrg_bao_dmdh']['path'] = path_to_bao_lkl\n",
        "DR6_lensing_only_yaml[\"likelihood\"]['bao.sdss_dr16_lrg_bao_dmdh']['path'] = path_to_bao_lkl\n",
        "DR6_lensing_only_yaml [\"likelihood\"]['bao.sdss_dr7_mgs']['path'] = path_to_bao_lkl\n",
        "DR6_lensing_only_yaml[\"likelihood\"]['bao.sixdf_2011_bao']['path'] = path_to_bao_lkl"
      ],
      "id": "d5f77374"
    },
    {
      "cell_type": "markdown",
      "metadata": {
        "id": "ed91d4a8"
      },
      "source": [
        "Let's check that the changes were implemented."
      ],
      "id": "ed91d4a8"
    },
    {
      "cell_type": "code",
      "execution_count": null,
      "metadata": {
        "id": "f247fa52"
      },
      "outputs": [],
      "source": [
        "pp = pprint.PrettyPrinter(indent=3)\n",
        "pp.pprint(DR6_lensing_only_yaml[\"likelihood\"])"
      ],
      "id": "f247fa52"
    },
    {
      "cell_type": "markdown",
      "metadata": {
        "id": "1ecfdcb7"
      },
      "source": [
        "Now, let's take a look at the parameters section of the yaml file. Nothing has to be changed here, simply take a look at the parameters, and their priors or fixed values."
      ],
      "id": "1ecfdcb7"
    },
    {
      "cell_type": "code",
      "execution_count": null,
      "metadata": {
        "id": "8f9d5e6a"
      },
      "outputs": [],
      "source": [
        "pp.pprint(DR6_lensing_only_yaml[\"params\"])"
      ],
      "id": "8f9d5e6a"
    },
    {
      "cell_type": "markdown",
      "metadata": {
        "id": "63f17a29"
      },
      "source": [
        "Next, we will look at the theory code instructions in the yaml file. Notice how we are using `classy_szfast` (`Cosmopower` emulator) as the theory code!"
      ],
      "id": "63f17a29"
    },
    {
      "cell_type": "code",
      "execution_count": null,
      "metadata": {
        "id": "158da586"
      },
      "outputs": [],
      "source": [
        "pp.pprint(DR6_lensing_only_yaml[\"theory\"])"
      ],
      "id": "158da586"
    },
    {
      "cell_type": "markdown",
      "metadata": {
        "id": "cae30680"
      },
      "source": [
        "As usual, we will use MCMC as the sampler. To make the chains converge faster, we will change the Rminus1_stop value from 0.01 to 0.1. However, if you want to reproduce the contours in [Madhavacheril et al. (2023)](https://arxiv.org/abs/2304.05203), you will have to change this parameter back to 0.01."
      ],
      "id": "cae30680"
    },
    {
      "cell_type": "code",
      "execution_count": null,
      "metadata": {
        "id": "t8u1WvooniH0"
      },
      "outputs": [],
      "source": [
        "DR6_lensing_only_yaml[\"sampler\"]['mcmc']['Rminus1_stop']=0.1"
      ],
      "id": "t8u1WvooniH0"
    },
    {
      "cell_type": "code",
      "execution_count": null,
      "metadata": {
        "id": "dc954a21"
      },
      "outputs": [],
      "source": [
        "pp.pprint(DR6_lensing_only_yaml[\"sampler\"])"
      ],
      "id": "dc954a21"
    },
    {
      "cell_type": "markdown",
      "metadata": {
        "id": "dfc22c89"
      },
      "source": [
        "We also need to update the path to the covariance matrix:"
      ],
      "id": "dfc22c89"
    },
    {
      "cell_type": "code",
      "execution_count": null,
      "metadata": {
        "colab": {
          "base_uri": "https://localhost:8080/"
        },
        "id": "e0baaf78",
        "outputId": "143b7c9f-3076-482d-db6e-3794f88b4699"
      },
      "outputs": [
        {
          "output_type": "stream",
          "name": "stdout",
          "text": [
            "'lcdm_actplanck_baseline_covmat.covmat'\n"
          ]
        }
      ],
      "source": [
        "path_covmat = \"lcdm_actplanck_baseline_covmat.covmat\"\n",
        "DR6_lensing_only_yaml[\"covmat\"] = path_covmat\n",
        "pp.pprint(DR6_lensing_only_yaml[\"covmat\"])"
      ],
      "id": "e0baaf78"
    },
    {
      "cell_type": "markdown",
      "metadata": {
        "id": "xacEsOm9fy3n"
      },
      "source": [
        "We can also change the location and the prefix to all the files that Cobaya will output."
      ],
      "id": "xacEsOm9fy3n"
    },
    {
      "cell_type": "code",
      "execution_count": null,
      "metadata": {
        "id": "qiaKBpFUfhBt"
      },
      "outputs": [],
      "source": [
        "%cd /content/\n",
        "!mkdir cobaya_output\n",
        "DR6_lensing_only_yaml[\"output\"] = \"cobaya_output/lcdm_actplanck_baseline_notebook\""
      ],
      "id": "qiaKBpFUfhBt"
    },
    {
      "cell_type": "markdown",
      "metadata": {
        "id": "MJ5-ppycWpNx"
      },
      "source": [
        "Finally, we will save the dictionary into a new `yaml` file,  and then we will be ready to we are ready to run MCMC with `Cobaya` as the sampling framework and `Cosmopower` as the theory code."
      ],
      "id": "MJ5-ppycWpNx"
    },
    {
      "cell_type": "code",
      "execution_count": null,
      "metadata": {
        "id": "DvKM-NtrVa5W"
      },
      "outputs": [],
      "source": [
        "file=open(\"/content/lcdm_actplanck_baseline.classy_szfast_mcmc.yaml\",\"w\")\n",
        "yaml.dump(DR6_lensing_only_yaml,file)\n",
        "file.close()"
      ],
      "id": "DvKM-NtrVa5W"
    },
    {
      "cell_type": "markdown",
      "metadata": {
        "id": "39d735af"
      },
      "source": [
        "# Running the chains"
      ],
      "id": "39d735af"
    },
    {
      "cell_type": "markdown",
      "metadata": {
        "id": "iiY8jS8GGzrm"
      },
      "source": [
        "We will now run MCMC with the `yaml` file we just edited and the command `cobaya-run`.\n",
        "\n",
        "**This process can take about an hour** in google colab with\n",
        "\n",
        "```\n",
        "Rminus1_stop = 0.01\n",
        "```\n",
        "\n",
        " and we generally recommend this type of analysis should not be done in a notebook.\n",
        " Here, we have chosen to run the code with\n",
        "\n",
        "```\n",
        "Rminus1_stop = 0.1\n",
        "```\n",
        "\n",
        "for speed and convenience.\n",
        "\n",
        "\n"
      ],
      "id": "iiY8jS8GGzrm"
    },
    {
      "cell_type": "code",
      "execution_count": null,
      "metadata": {
        "id": "a1df5296"
      },
      "outputs": [],
      "source": [
        "%%time\n",
        "\n",
        "t1 = time.time()\n",
        "!cobaya-run /content/lcdm_actplanck_baseline.classy_szfast_mcmc.yaml -f\n",
        "\n",
        "t2 = time.time()\n",
        "\n",
        "delta_t = t2 - t1"
      ],
      "id": "a1df5296"
    },
    {
      "cell_type": "code",
      "execution_count": null,
      "metadata": {
        "colab": {
          "base_uri": "https://localhost:8080/"
        },
        "id": "4fca1377",
        "outputId": "f802a10e-0ff2-4d71-cb3f-f94fa3366db5"
      },
      "outputs": [
        {
          "output_type": "execute_result",
          "data": {
            "text/plain": [
              "33.73149019082387"
            ]
          },
          "metadata": {},
          "execution_count": 29
        }
      ],
      "source": [
        "minutes_run = delta_t/60\n",
        "minutes_run"
      ],
      "id": "4fca1377"
    },
    {
      "cell_type": "markdown",
      "metadata": {
        "id": "Zx4j7Io8Tqp6"
      },
      "source": [
        "Once the above cells are done, you've succesfully run your MCMC chains using the `Cosmopower` emulator as the theory code. Although this might have taken a long time in a notebook, if you were to use this code on a few more cores it would be an incredibly fast way of deriving your parameter constraints."
      ],
      "id": "Zx4j7Io8Tqp6"
    },
    {
      "cell_type": "markdown",
      "metadata": {
        "id": "930f71f8"
      },
      "source": [
        "# Plotting\n",
        "\n",
        "Now that we've run our chains, we can plot the parameter contours and take a look at them!"
      ],
      "id": "930f71f8"
    },
    {
      "cell_type": "code",
      "execution_count": null,
      "metadata": {
        "id": "91fe3c4b"
      },
      "outputs": [],
      "source": [
        "path_to_chains_dir = \"/content/cobaya_output\"\n",
        "final_chain_dir_list = []\n",
        "final_chain_dir_list.append(path_to_chains_dir +'/lcdm_actplanck_baseline_notebook')\n",
        "i=0\n",
        "readsamps = loadMCSamples(final_chain_dir_list[i],settings={'ignore_rows':0.3})\n",
        "p = readsamps.getParams()\n",
        "readsamps.addDerived(p.omega_b, name='ombh2', label='\\Omega_\\mathrm{b} h^2')\n",
        "readsamps.addDerived(p.omega_cdm, name='omch2', label='\\Omega_\\mathrm{c} h^2')\n",
        "#eadsamps.addDerived(p.n_s, name='n_s', label='n_\\mathrm{s}')\n",
        "\n",
        "g = plots.getSubplotPlotter()\n",
        "g.settings.fig_width_inch = 10\n",
        "\n",
        "g.settings.axes_fontsize = 10\n",
        "g.settings.lab_fontsize =13\n",
        "\n",
        "g.settings.legend_fontsize = 14\n",
        "g.settings.alpha_filled_add=0.1\n",
        "g.settings.colorbar_label_pad = 20.\n",
        "g.settings.figure_legend_frame = False\n",
        "\n",
        "g.settings.title_limit=0 #uncomment if you want to display marg stats.\n",
        "\n",
        "g.triangle_plot(readsamps,\n",
        "    ['ombh2','logA','n_s','H0','sigma8','S825'],\n",
        "    filled=[True,False],\n",
        "    legend_labels=[ 'This notebook (Cosmopower)'],\n",
        "    legend_loc='upper right',\n",
        "    colors = ['blue','red','green','red'],\n",
        "    line_args=[{'lw':'1','color':'blue'},{'lw':'1','color':'red'},{'lw':'1','color':'green'},{'lw':'1','color':'r'}])\n",
        "\n",
        "#g.export(path_to_chains_dir +'/DR6_lensing_only_contours_classy_szfast.pdf')"
      ],
      "id": "91fe3c4b"
    },
    {
      "cell_type": "markdown",
      "metadata": {
        "id": "aV_PdhOQUlrQ"
      },
      "source": [
        "# Comparison to Madhavacheril et al. (2023).\n",
        "\n",
        "To compare the results we obtain in this notebook with the ones in [Madhavacheril et al. (2023)](https://arxiv.org/abs/2304.05203), we can download the chains and overplot them with this notebook's chains."
      ],
      "id": "aV_PdhOQUlrQ"
    },
    {
      "cell_type": "code",
      "execution_count": null,
      "metadata": {
        "id": "LTlO5noyuBrQ"
      },
      "outputs": [],
      "source": [
        "%%capture\n",
        "%cd /content/\n",
        "!mkdir dr6-lensing/\n",
        "%cd dr6-lensing\n",
        "!wget https://portal.nersc.gov/project/act/act_dr6_lensing/chains/dr6-lensing/lcdm_actplanck_baseline_167926925701.1.txt\n",
        "!wget https://portal.nersc.gov/project/act/act_dr6_lensing/chains/dr6-lensing/lcdm_actplanck_baseline_167926925701.2.txt\n",
        "!wget https://portal.nersc.gov/project/act/act_dr6_lensing/chains/dr6-lensing/lcdm_actplanck_baseline_167926925701.3.txt\n",
        "!wget https://portal.nersc.gov/project/act/act_dr6_lensing/chains/dr6-lensing/lcdm_actplanck_baseline_167926925701.4.txt\n",
        "!wget https://portal.nersc.gov/project/act/act_dr6_lensing/chains/dr6-lensing/lcdm_actplanck_baseline_167926925701.5.txt\n",
        "!wget https://portal.nersc.gov/project/act/act_dr6_lensing/chains/dr6-lensing/lcdm_actplanck_baseline_167926925701.6.txt\n",
        "!wget https://portal.nersc.gov/project/act/act_dr6_lensing/chains/dr6-lensing/lcdm_actplanck_baseline_167926925701.7.txt\n",
        "!wget https://portal.nersc.gov/project/act/act_dr6_lensing/chains/dr6-lensing/lcdm_actplanck_baseline_167926925701.8.txt\n",
        "!wget https://portal.nersc.gov/project/act/act_dr6_lensing/chains/dr6-lensing/lcdm_actplanck_baseline_167926925701.checkpoint\n",
        "!wget https://portal.nersc.gov/project/act/act_dr6_lensing/chains/dr6-lensing/lcdm_actplanck_baseline_167926925701.covmat\n",
        "!wget https://portal.nersc.gov/project/act/act_dr6_lensing/chains/dr6-lensing/lcdm_actplanck_baseline_167926925701.input.yaml\n",
        "!wget https://portal.nersc.gov/project/act/act_dr6_lensing/chains/dr6-lensing/lcdm_actplanck_baseline_167926925701.progress\n",
        "!wget https://portal.nersc.gov/project/act/act_dr6_lensing/chains/dr6-lensing/lcdm_actplanck_baseline_167926925701.updated.yaml\n",
        "\n",
        "%cd /content/"
      ],
      "id": "LTlO5noyuBrQ"
    },
    {
      "cell_type": "code",
      "execution_count": null,
      "metadata": {
        "id": "lLER37I-hyIC"
      },
      "outputs": [],
      "source": [
        "path_to_dr6_chains_dir = \"/content/dr6-lensing\"\n",
        "final_chain_dr6_dir_list = []\n",
        "i=0\n",
        "final_chain_dr6_dir_list.append(path_to_dr6_chains_dir +'/lcdm_actplanck_baseline_167926925701')\n",
        "readsamps_dr6 = loadMCSamples(final_chain_dr6_dir_list[i],settings={'ignore_rows':0.3})\n",
        "all_samples_dr6 = []\n",
        "samples_dr6 = readsamps_dr6\n",
        "all_samples_dr6.append(samples_dr6)\n",
        "\n",
        "g = plots.getSubplotPlotter()\n",
        "g.settings.fig_width_inch = 10\n",
        "\n",
        "g.settings.axes_fontsize = 10\n",
        "g.settings.lab_fontsize =13\n",
        "\n",
        "g.settings.legend_fontsize = 14\n",
        "g.settings.alpha_filled_add=0.1\n",
        "g.settings.colorbar_label_pad = 20.\n",
        "g.settings.figure_legend_frame = False\n",
        "\n",
        "g.settings.title_limit=0 #uncomment if you want to display marg stats.\n",
        "\n",
        "g.triangle_plot([readsamps,readsamps_dr6],\n",
        "    ['omch2','ombh2','logA','ns','H0','sigma8','S825'],\n",
        "    filled=[True,False],\n",
        "    legend_labels=['This notebook','DR6 results (Madhavacheril et al 2023)'],\n",
        "    legend_loc='upper right',\n",
        "    colors = ['blue','red'],\n",
        "    line_args=[{'lw':'1','color':'blue'},{'lw':'2','color':'red'},{'lw':'1','color':'green'},{'lw':'1','color':'r'}])\n"
      ],
      "id": "lLER37I-hyIC"
    },
    {
      "cell_type": "markdown",
      "metadata": {
        "id": "5O0SVjWN_1SC"
      },
      "source": [
        "# Related resources:\n",
        "\n",
        "For more examples of how to use ACT data consider using:\n",
        "- The DR6 Lensing notebooks available on github\n",
        "- The DR4 and DR5 ACT notebooks available on [github](https://github.com/ACTCollaboration)\n",
        "- The `pixell` notebooks which are available on the [`pixell` repo](https://github.com/simonsobs/pixell/tree/master) and describe how to work with maps from ACT"
      ],
      "id": "5O0SVjWN_1SC"
    }
  ],
  "metadata": {
    "colab": {
      "provenance": [],
      "include_colab_link": true
    },
    "kernelspec": {
      "display_name": "Python 3 (ipykernel)",
      "language": "python",
      "name": "python3"
    },
    "language_info": {
      "codemirror_mode": {
        "name": "ipython",
        "version": 3
      },
      "file_extension": ".py",
      "mimetype": "text/x-python",
      "name": "python",
      "nbconvert_exporter": "python",
      "pygments_lexer": "ipython3",
      "version": "3.10.9"
    }
  },
  "nbformat": 4,
  "nbformat_minor": 5
}
