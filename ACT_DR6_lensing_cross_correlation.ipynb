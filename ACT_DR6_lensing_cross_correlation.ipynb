{
  "cells": [
    {
      "cell_type": "markdown",
      "metadata": {
        "colab_type": "text",
        "id": "view-in-github"
      },
      "source": [
        "<a href=\"https://colab.research.google.com/github/ACTCollaboration/DR6_Notebooks/blob/main/ACT_DR6_lensing_cross_correlation.ipynb\" target=\"_parent\"><img src=\"https://colab.research.google.com/assets/colab-badge.svg\" alt=\"Open In Colab\"/></a>"
      ]
    },
    {
      "cell_type": "markdown",
      "metadata": {
        "id": "46Y24_WYR_9Y"
      },
      "source": [
        "# Correlation of the ACT CMB Lensing Maps with a Planck CIB map\n",
        "\n",
        "\n",
        "*Written by Frank Qu and the ACT collaboration*\n",
        "\n",
        "---\n",
        "\n",
        "In this notebook we'll walk through how to load a lensing map from the ACT Data Release 6 (DR6). The lensing maps are actually released as `alms`, which can be filtered and converted to map space. The filtering and conversion process is demonstrated below. We also examine the correlation between the ACT lensing map and a Planck CIB map and demonstrate how two such maps can be compared.\n",
        "\n",
        "\n",
        "The data for this release is publicly available on [Lambda](https://lambda.gsfc.nasa.gov/product/act/actadv_prod_table.html) and a full discussion of the ACT DR6 lensing analysis can be found in [Qu et al. (2023) ](https://arxiv.org/abs/2304.05202), [Madhavacheril et al. (2023)](https://arxiv.org/abs/2304.05203), [MacCrann et al. (2023)](https://arxiv.org/abs/2304.05196) and [Farren et al. (2023)](https://arxiv.org/pdf/2309.05659.pdf).\n",
        "\n",
        "For anyone who would like a bit more background in CMB analysis we recommend a few other resources from ACT at the end of this notebook. In particular if you are unfarmiliar with [`pixell`](https://pixell.readthedocs.io/en/latest/) we recommend you refer to the `pixell` specific notebooks that demonstrate the basics of how to use the package."
      ]
    },
    {
      "cell_type": "code",
      "execution_count": null,
      "metadata": {
        "id": "88OJKgVFZ3qP"
      },
      "outputs": [],
      "source": [
        "# We start by installing the relevant packages\n",
        "%%capture\n",
        "!pip install pixell\n",
        "!pip install healpy\n",
        "! pip install astropy"
      ]
    },
    {
      "cell_type": "code",
      "execution_count": null,
      "metadata": {
        "id": "3VRAtXhsgrr6"
      },
      "outputs": [],
      "source": [
        "from pixell import enmap, enplot, reproject, curvedsky as cs,utils\n",
        "import healpy as hp\n",
        "import numpy as np\n",
        "from astropy.wcs import WCS\n"
      ]
    },
    {
      "cell_type": "code",
      "execution_count": null,
      "metadata": {
        "colab": {
          "base_uri": "https://localhost:8080/"
        },
        "id": "_bU7xIsl_C8H",
        "outputId": "ecd37c5c-6503-4cad-a717-539a0cd718c2"
      },
      "outputs": [],
      "source": [
        "# We can mount the google drive to access any data stored there\n",
        "from google.colab import drive\n",
        "drive.mount('/content/drive')"
      ]
    },
    {
      "cell_type": "code",
      "execution_count": null,
      "metadata": {
        "id": "0MsYGbHmZV_c"
      },
      "outputs": [],
      "source": [
        "# This is just a plotting function we will use to display the maps\n",
        "def eshow(x,**kwargs):\n",
        "    ''' Define a function to help us plot the maps neatly '''\n",
        "    plots = enplot.get_plots(x, **kwargs)\n",
        "    enplot.show(plots, method = \"ipython\")"
      ]
    },
    {
      "cell_type": "code",
      "execution_count": null,
      "metadata": {
        "id": "2dOXjPq5Z3F3"
      },
      "outputs": [],
      "source": [
        "# Download the data needed for the notebook\n",
        "# These includes the lensing map\n",
        "# Planck CIB map at 545 GHz in MJy/sr\n",
        "# BOSS survey"
      ]
    },
    {
      "cell_type": "code",
      "execution_count": null,
      "metadata": {
        "id": "OsGJH36PhOqd"
      },
      "outputs": [],
      "source": [
        "!wget http://pla.esac.esa.int/pla/aio/product-action?MAP.MAP_ID=COM_CompMap_CIB-GNILC-F545_2048_R2.00.fits\n",
        "\n",
        "!wget https://phy-act1.princeton.edu/public/zatkins/dr6_lensing_v1/mask_act_dr6_lensing_v1_healpix_nside_4096_baseline.fits \n",
        "\n",
        "!wget https://phy-act1.princeton.edu/public/data/dr6_lensing_v1/misc/clkk.txt\n",
        "\n",
        "!wget https://phy-act1.princeton.edu/public/data/dr6_lensing_v1/maps/baseline/N_L_kk_act_dr6_lensing_v1_baseline.txt  \n",
        "\n",
        "!wget https://phy-act1.princeton.edu/public/data/dr6_lensing_v1/maps/baseline/kappa_alm_data_act_dr6_lensing_v1_baseline.fits "
      ]
    },
    {
      "cell_type": "markdown",
      "metadata": {
        "id": "5dkftICMFYTG"
      },
      "source": [
        "Let's load the ACT lensing analysis map. This is a binary mask apodized at the the edges with a cosine roll off.\n",
        "The mask is in healpix, here we will convert this to CAR"
      ]
    },
    {
      "cell_type": "code",
      "execution_count": null,
      "metadata": {
        "id": "bgnVh__lFjPj"
      },
      "outputs": [],
      "source": [
        "mask = hp.read_map('mask_act_dr6_lensing_v1_healpix_nside_4096_baseline.fits')"
      ]
    },
    {
      "cell_type": "code",
      "execution_count": null,
      "metadata": {},
      "outputs": [],
      "source": [
        "box = np.array([[-63,180],[23,-180]]) * utils.degree\n",
        "shape,wcs = enmap.geometry(pos=box,res=1 * utils.arcmin,proj='car')\n",
        "\n"
      ]
    },
    {
      "cell_type": "code",
      "execution_count": null,
      "metadata": {},
      "outputs": [],
      "source": [
        "mask = reproject.healpix2map(np.double(mask), shape, wcs)\n"
      ]
    },
    {
      "cell_type": "code",
      "execution_count": null,
      "metadata": {
        "id": "qAtEixwsO5Mw"
      },
      "outputs": [],
      "source": [
        "eshow(mask, downgrade=10, colorbar=True, ticks=15)"
      ]
    },
    {
      "cell_type": "markdown",
      "metadata": {
        "id": "h4pqdaf65vN8"
      },
      "source": [
        "The cosmic infrared background (CIB) map used here is the 545 GHz Planck CIB map obtained with component separation using the GNILC algorithm. See  arXiv:1905.00426 for details. The loaded CIB map is expressed in units of MJy sr${^{-1}}$, we convert that to $μK$ using the appropiate frequency conversion factor.\n",
        "\n"
      ]
    },
    {
      "cell_type": "code",
      "execution_count": null,
      "metadata": {
        "id": "JjJ-KOTQmUJ0"
      },
      "outputs": [],
      "source": [
        "cib = hp.fitsfunc.read_map('product-action?MAP.MAP_ID=COM_CompMap_CIB-GNILC-F545_2048_R2.00.fits')\n",
        "cib_fact = 1.7508*10**4\n",
        "cib *= cib_fact"
      ]
    },
    {
      "cell_type": "code",
      "execution_count": null,
      "metadata": {
        "id": "wny1C47F4Oq0"
      },
      "outputs": [],
      "source": [
        "hp.mollview(\n",
        "    cib,\n",
        "    coord=[\"G\", \"E\"],\n",
        "    title=\"Histogram equalized Ecliptic\",\n",
        "    unit=\"mK\",\n",
        "    norm=\"hist\")\n",
        "hp.graticule()"
      ]
    },
    {
      "cell_type": "markdown",
      "metadata": {
        "id": "P-1JclCDp8rQ"
      },
      "source": [
        "The CIB maps prepared by the *Planck* team are stored in healpix format in galactic coordinates. To cross correlate with the ACT lensing maps, we need to convert them to CAR format in equatorial coordinates."
      ]
    },
    {
      "cell_type": "code",
      "execution_count": null,
      "metadata": {
        "id": "buzSZNeno94N"
      },
      "outputs": [],
      "source": [
        "cib_map = reproject.healpix2map(np.double(cib), mask.shape, mask.wcs,lmax=3000,rot='gal,equ')"
      ]
    },
    {
      "cell_type": "code",
      "execution_count": null,
      "metadata": {
        "id": "tZdsEGGEuFft"
      },
      "outputs": [],
      "source": [
        "cib_alms = cs.map2alm(cib_map,lmax=3000)"
      ]
    },
    {
      "cell_type": "markdown",
      "metadata": {
        "id": "t0QfoID8p9Su"
      },
      "source": [
        "Now we load the DR6 kappa map, Wiener filter it and convert it from kappa to gravitational potential using the fact that $\\kappa=-\\frac{1}{2}\\nabla^2\\phi$."
      ]
    },
    {
      "cell_type": "code",
      "execution_count": null,
      "metadata": {
        "colab": {
          "base_uri": "https://localhost:8080/"
        },
        "id": "LCbz1pNl4NmI",
        "outputId": "deaaa7ea-c3cd-4c54-9468-bd047b934779"
      },
      "outputs": [],
      "source": [
        "# Start by reading in the alms of the lensing map\n",
        "kappa = hp.read_alm('kappa_alm_data_act_dr6_lensing_v1_baseline.fits')\n",
        "\n",
        "# Convert any nans to avoid problems later on\n",
        "kappa = np.nan_to_num(kappa)\n",
        "\n",
        "# Load an input theory lensing power spectrum\n",
        "clkk = np.loadtxt(\"clkk.txt\")[:2101]\n",
        "\n",
        "# Load the noise power spectrum which is a function of ell\n",
        "ells,noise_kappa=np.loadtxt('N_L_kk_act_dr6_lensing_v1_baseline.txt',unpack=True)\n",
        "#lets filter out the SNR dominated modes and obtain phi\n",
        "#ells = np.arange(2099)\n",
        "#noise_kappa=noise_kappa[:2099]\n",
        "filter = np.nan_to_num(2*clkk/(clkk+noise_kappa)/ells**2)\n",
        "filter[ells<100] = 0"
      ]
    },
    {
      "cell_type": "code",
      "execution_count": null,
      "metadata": {
        "id": "0l62WQkhQ5un"
      },
      "outputs": [],
      "source": [
        "# We can now filter the kappa alms by the filter produced above\n",
        "filter_kappa = hp.almxfl(kappa, filter)"
      ]
    },
    {
      "cell_type": "code",
      "execution_count": null,
      "metadata": {
        "id": "pWReGGKBHu1s"
      },
      "outputs": [],
      "source": [
        "# We now convert the filtered alms to map space\n",
        "frmap = cs.alm2map(filter_kappa, enmap.empty(mask.shape, mask.wcs))"
      ]
    },
    {
      "cell_type": "code",
      "execution_count": null,
      "metadata": {
        "id": "EwLs_UdIQh91"
      },
      "outputs": [],
      "source": [
        "eshow(frmap, downgrade=10, ticks=15, colorbar=True, color='gray')"
      ]
    },
    {
      "cell_type": "markdown",
      "metadata": {
        "id": "E-r0Vo9NrwAP"
      },
      "source": [
        " CMB lensing is a projected tracer of structure growth with sensitivity to structure at a wide range of redshifts. Our lensing map is signal dominated and traces the dark matter distribution with high fidelity, we therefore expect it to be highly correlated with structures of LSS, which covers a similar extend in redshift. One such tracer is the CIB, a faint glow of infrared radiation emitted by the stars from dusty forming galaxies. By applying the same filtering to the CIB, one can see the correlations by eye.\n",
        "\n",
        "---\n",
        "\n"
      ]
    },
    {
      "cell_type": "code",
      "execution_count": null,
      "metadata": {
        "id": "f63_MZP6SxSU"
      },
      "outputs": [],
      "source": [
        "# We apply the same filter the cib_alms as we did to the lensing map avove\n",
        "fcib_alms = hp.almxfl(cib_alms, filter)\n"
      ]
    },
    {
      "cell_type": "code",
      "execution_count": null,
      "metadata": {
        "id": "7hzx32L8Sx28"
      },
      "outputs": [],
      "source": [
        "# Again we can convert this to map space\n",
        "filtercib = cs.alm2map(fcib_alms, enmap.empty(mask.shape, mask.wcs))"
      ]
    },
    {
      "cell_type": "markdown",
      "metadata": {
        "id": "b2pmTF6juVu4"
      },
      "source": [
        "Here is the filtered CIB field, we can see that the structures here resembles the lensing map shown above."
      ]
    },
    {
      "cell_type": "code",
      "execution_count": null,
      "metadata": {
        "id": "IlVOd2bvuQAr"
      },
      "outputs": [],
      "source": [
        "eshow(filtercib, downgrade=10, ticks=15, colorbar=True, color='gray')"
      ]
    },
    {
      "cell_type": "markdown",
      "metadata": {
        "id": "VsYSLUqNzdRE"
      },
      "source": [
        "We can make the correspondence between the above two maps more apparent by overlying  the CIB as contours on top of the lensing map. First lets normalize the CIB so that the values are between 0 and 1."
      ]
    },
    {
      "cell_type": "code",
      "execution_count": null,
      "metadata": {
        "id": "NnezD6N9s5O1"
      },
      "outputs": [],
      "source": [
        "from sklearn import preprocessing as p\n",
        "min_max_scaler = p.MinMaxScaler()\n",
        "normalizedData = min_max_scaler.fit_transform(filtercib)\n",
        "downgrade_factor = 5"
      ]
    },
    {
      "cell_type": "code",
      "execution_count": null,
      "metadata": {
        "id": "aS9SsaEw4qHX"
      },
      "outputs": [],
      "source": [
        "normalizedData = enmap.ndmap(normalizedData, mask.wcs)"
      ]
    },
    {
      "cell_type": "markdown",
      "metadata": {
        "id": "pXflF4ZV23mZ"
      },
      "source": [
        "Next we plot the normalized CIB as contours, with high intensity regions in red and low intensity regions in blue. The lensing map is plotted in black and white."
      ]
    },
    {
      "cell_type": "code",
      "execution_count": null,
      "metadata": {
        "id": "vYsfBiFETG1R"
      },
      "outputs": [],
      "source": [
        "p1 = enplot.plot(frmap, layers=True, ticks=1, downgrade=downgrade_factor, font_size=20, color='gray')\n",
        "mask = np.piecewise(mask, [mask>=0.9,mask<0.5], [1, 0])\n",
        "\n",
        "p2 = enplot.plot(normalizedData*mask, layers=True, contours=\"0.2\", contour_width=1,\n",
        "                 contour_color=\"1.:FF0000,0.9:e84e0c,0.8:e8730c,0.7:d9a509,0.6:d6c122,0.5:faff66,0.4:66ffa8,0.3:0083FE,0.2:5175ed,0.1:0400FE\",\n",
        "                 ticks=1, downgrade=downgrade_factor, font_size=20, mask=0)\n",
        "p1 += [a for a in p2 if \"cont\" in a.name]\n",
        "img = enplot.merge_images([a.img for a in p1])\n"
      ]
    },
    {
      "cell_type": "code",
      "execution_count": null,
      "metadata": {
        "id": "etcmlr49TcTv"
      },
      "outputs": [],
      "source": [
        "# We can now plot the contours of each map and look at the correlation by eye.\n",
        "enplot.show(img, method=\"ipython\")"
      ]
    },
    {
      "cell_type": "markdown",
      "metadata": {
        "id": "aFGoINiS5R5v"
      },
      "source": [
        "Zoom in to see a smaller patch"
      ]
    },
    {
      "cell_type": "code",
      "execution_count": null,
      "metadata": {
        "id": "PjYSTr3e4PeU"
      },
      "outputs": [],
      "source": [
        "# [[decfrom, rafrom], [[decto, rato]]\n",
        "dec, ra = np.deg2rad(np.array((-45, -40.5)))\n",
        "width = np.deg2rad(20)\n",
        "box = np.array([[dec - width/2., ra - width/2.], [dec + width/2., ra + width/2.]])\n",
        "stamp = frmap.submap(box)\n",
        "mask_stamp = mask.submap(box)\n",
        "normalizedData_stamp = normalizedData.submap(box)"
      ]
    },
    {
      "cell_type": "code",
      "execution_count": null,
      "metadata": {
        "id": "LwA9J9LA4XLJ"
      },
      "outputs": [],
      "source": [
        "p1 = enplot.plot(stamp, layers=True, ticks=1, downgrade=downgrade_factor, font_size=20, color='gray')\n",
        "mask_stamp[mask_stamp!=1] = 0\n",
        "p2 = enplot.plot(mask_stamp*normalizedData_stamp, layers=True, contours=\"0.2\", contour_width=1,\n",
        "                 contour_color=\"1.:FF0000,0.9:e84e0c,0.8:e8730c,0.7:d9a509,0.6:d6c122,0.5:faff66,0.4:66ffa8,0.3:0083FE,0.2:5175ed,0.1:0400FE\",\n",
        "                 ticks=1, downgrade=downgrade_factor, font_size=20, mask=0)\n",
        "p1 += [a for a in p2 if \"cont\" in a.name]\n",
        "img = enplot.merge_images([a.img for a in p1])\n",
        "enplot.show(img, method = \"ipython\")"
      ]
    },
    {
      "cell_type": "markdown",
      "metadata": {
        "id": "LdHb5OmIAoOY"
      },
      "source": [
        "# Related resources:\n",
        "\n",
        "For more examples of how to use ACT data consider using:\n",
        "- The DR6 Lensing notebooks available on github\n",
        "- The DR4 and DR5 ACT notebooks available on [github](https://github.com/ACTCollaboration)\n",
        "- The `pixell` notebooks which are available on the [`pixell` repo](https://github.com/simonsobs/pixell/tree/master) and describe how to work with maps from ACT"
      ]
    },
    {
      "cell_type": "code",
      "execution_count": null,
      "metadata": {
        "id": "sOB_ZCnuiY33"
      },
      "outputs": [],
      "source": []
    }
  ],
  "metadata": {
    "colab": {
      "include_colab_link": true,
      "provenance": []
    },
    "kernelspec": {
      "display_name": "Python 3",
      "name": "python3"
    },
    "language_info": {
      "codemirror_mode": {
        "name": "ipython",
        "version": 3
      },
      "file_extension": ".py",
      "mimetype": "text/x-python",
      "name": "python",
      "nbconvert_exporter": "python",
      "pygments_lexer": "ipython3",
      "version": "3.8.12"
    }
  },
  "nbformat": 4,
  "nbformat_minor": 0
}
